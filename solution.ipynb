{
 "cells": [
  {
   "cell_type": "markdown",
   "id": "3bae580b",
   "metadata": {},
   "source": [
    "# Практическое задание №2. Предварительная обработка данных"
   ]
  },
  {
   "cell_type": "markdown",
   "id": "68cae4e8",
   "metadata": {},
   "source": [
    "## Установка зависимостей"
   ]
  },
  {
   "cell_type": "code",
   "execution_count": null,
   "id": "60cdd60a",
   "metadata": {
    "vscode": {
     "languageId": "plaintext"
    }
   },
   "outputs": [],
   "source": [
    "%pip install -qqq pyarrow fastparquet"
   ]
  },
  {
   "cell_type": "markdown",
   "id": "5b4e6109",
   "metadata": {},
   "source": [
    "## Импорт зависимостей"
   ]
  },
  {
   "cell_type": "code",
   "execution_count": null,
   "id": "c9287fe2",
   "metadata": {
    "vscode": {
     "languageId": "plaintext"
    }
   },
   "outputs": [],
   "source": [
    "import pandas as pd\n",
    "# import ... ?"
   ]
  },
  {
   "cell_type": "markdown",
   "id": "3bc0fff3",
   "metadata": {},
   "source": [
    "## NYC Taxi Dataset\n",
    "\n",
    "Вы можете подробно ознакомиться с датасетом на [сайте](https://www.nyc.gov/site/tlc/about/tlc-trip-record-data.page)"
   ]
  },
  {
   "cell_type": "code",
   "execution_count": null,
   "id": "335afd76",
   "metadata": {
    "vscode": {
     "languageId": "plaintext"
    }
   },
   "outputs": [],
   "source": [
    "from pathlib import Path \n",
    "\n",
    "dataframes = list()\n",
    "\n",
    "for file_name in Path('/home/jupyter/datasphere/datasets/nyc-yellow-2025/').iterdir():\n",
    "    if file_name.suffix == '.parquet':\n",
    "        dataframes.append(pd.read_parquet(file_name))\n",
    "\n",
    "df = pd.concat[dataframes]"
   ]
  },
  {
   "cell_type": "markdown",
   "id": "67d02bcc",
   "metadata": {},
   "source": [
    "Таргет -- это `fare_amount`"
   ]
  },
  {
   "cell_type": "markdown",
   "id": "e8b3b208",
   "metadata": {},
   "source": [
    "## UK Car Accidents"
   ]
  },
  {
   "cell_type": "code",
   "execution_count": null,
   "id": "3e3f9ba2",
   "metadata": {
    "vscode": {
     "languageId": "plaintext"
    }
   },
   "outputs": [],
   "source": [
    "accidents = pd.read_csv(\n",
    "    filepath_or_buffer='/home/jupyter/datasphere/datasets/road-accidents/road-accident-united-kingdom-uk-dataset/UK_Accident.csv',\n",
    "\n",
    ").drop(columns=['Accident_Index', 'Unnamed: 0'])\n",
    "\n",
    "accidents"
   ]
  },
  {
   "cell_type": "code",
   "execution_count": null,
   "id": "08ae4b8a",
   "metadata": {
    "vscode": {
     "languageId": "plaintext"
    }
   },
   "outputs": [],
   "source": [
    "target = accidents['Accident_Severity']\n",
    "target = target.apply(lambda x: 1 if x >= 2 else 0)\n",
    "\n",
    "data = accidents.drop(columns='Accident_Severity')"
   ]
  }
 ],
 "metadata": {
  "language_info": {
   "name": "python"
  }
 },
 "nbformat": 4,
 "nbformat_minor": 5
}
